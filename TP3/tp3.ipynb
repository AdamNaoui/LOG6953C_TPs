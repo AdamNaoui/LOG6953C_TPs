{
 "cells": [
  {
   "cell_type": "code",
   "execution_count": 1,
   "metadata": {
    "collapsed": true
   },
   "outputs": [],
   "source": [
    "import matplotlib.pyplot as plt\n",
    "import numpy as np\n",
    "\n",
    "# importing Qiskit\n",
    "from qiskit import IBMQ, Aer, assemble, transpile\n",
    "from qiskit import QuantumCircuit, ClassicalRegister, QuantumRegister\n",
    "from qiskit.providers.ibmq import least_busy\n",
    "# import basic plot tools\n",
    "from qiskit.visualization import plot_histogram"
   ]
  },
  {
   "cell_type": "markdown",
   "source": [],
   "metadata": {
    "collapsed": false
   }
  },
  {
   "cell_type": "code",
   "execution_count": 5,
   "outputs": [
    {
     "data": {
      "text/plain": "<Figure size 789.163x284.278 with 1 Axes>",
      "image/png": "[encoded data removed]"
     },
     "execution_count": 5,
     "metadata": {},
     "output_type": "execute_result"
    }
   ],
   "source": [
    "grover_circuit = QuantumCircuit(3)\n",
    "# grover_circuit = initialize_s(grover_circuit, [0,1,2])\n",
    "for q in [0, 1, 2]:\n",
    "    grover_circuit.h(q)\n",
    "grover_circuit.cz(2, 0)\n",
    "grover_circuit.cz(1, 0)\n",
    "\n",
    "for qubit in range(3):\n",
    "    grover_circuit.h(qubit)\n",
    "# Apply transformation |00..0> -> |11..1> (X-gates)\n",
    "for qubit in range(3):\n",
    "    grover_circuit.x(qubit)\n",
    "# Do multi-controlled-Z gate\n",
    "grover_circuit.ccz(2,1,0)\n",
    "# Apply transformation |11..1> -> |00..0>\n",
    "for qubit in range(3):\n",
    "    grover_circuit.x(qubit)\n",
    "# Apply transformation |00..0> -> |s>\n",
    "for qubit in range(3):\n",
    "    grover_circuit.h(qubit)\n",
    "\n",
    "grover_circuit.draw(output='mpl')"
   ],
   "metadata": {
    "collapsed": false
   }
  },
  {
   "cell_type": "code",
   "execution_count": 3,
   "outputs": [
    {
     "name": "stdout",
     "output_type": "stream",
     "text": [
      "n = 3\n",
      "grover_circuit = QuantumCircuit(n)\n",
      "# grover_circuit = initialize_s(grover_circuit, [0,1,2])\n",
      "for q in [0,1,2]:\n",
      "    grover_circuit.h(q)\n",
      "grover_circuit.h( 2)\n",
      "grover_circuit.h( 2)\n",
      "# grover_circuit.append(oracle_ex3, [0,1,2])\n",
      "# grover_circuit.append(diffuser(n), [0,1,2])\n",
      "# Apply transformation |s> -> |00..0> (H-gates)\n",
      "for qubit in range(n):\n",
      "    grover_circuit.h(qubit)\n",
      "# Apply transformation |00..0> -> |11..1> (X-gates)\n",
      "for qubit in range(n):\n",
      "    grover_circuit.x(qubit)\n",
      "# Do multi-controlled-Z gate\n",
      "grover_circuit.h(n-1)\n",
      "grover_circuit.mct(list(range(n-1)), n-1)  # multi-controlled-toffoli\n",
      "grover_circuit.h(n-1)\n",
      "# Apply transformation |11..1> -> |00..0>\n",
      "for qubit in range(n):\n",
      "    grover_circuit.x(qubit)\n",
      "# Apply transformation |00..0> -> |s>\n",
      "for qubit in range(n):\n",
      "    grover_circuit.h(qubit)\n",
      "\n",
      "grover_circuit.draw(output='mpl')# number=0\n",
      "n = 3\n",
      "grover_circuit = QuantumCircuit(n)\n",
      "# grover_circuit = initialize_s(grover_circuit, [0,1,2])\n",
      "for q in [0,1,2]:\n",
      "    grover_circuit.h(q)\n",
      "grover_circuit.cx(0, 2)\n",
      "grover_circuit.cx(1, 2)\n",
      "# grover_circuit.append(oracle_ex3, [0,1,2])\n",
      "# grover_circuit.append(diffuser(n), [0,1,2])\n",
      "# Apply transformation |s> -> |00..0> (H-gates)\n",
      "for qubit in range(n):\n",
      "    grover_circuit.h(qubit)\n",
      "# Apply transformation |00..0> -> |11..1> (X-gates)\n",
      "for qubit in range(n):\n",
      "    grover_circuit.x(qubit)\n",
      "# Do multi-controlled-Z gate\n",
      "grover_circuit.h(n-1)\n",
      "grover_circuit.mct(list(range(n-1)), n-1)  # multi-controlled-toffoli\n",
      "grover_circuit.h(n-1)\n",
      "# Apply transformation |11..1> -> |00..0>\n",
      "for qubit in range(n):\n",
      "    grover_circuit.x(qubit)\n",
      "# Apply transformation |00..0> -> |s>\n",
      "for qubit in range(n):\n",
      "    grover_circuit.h(qubit)\n",
      "\n",
      "grover_circuit.draw(output='mpl')# number=1\n",
      "n = 3\n",
      "grover_circuit = QuantumCircuit(n)\n",
      "# grover_circuit = initialize_s(grover_circuit, [0,1,2])\n",
      "for q in [0,1,2]:\n",
      "    grover_circuit.h(q)\n",
      "grover_circuit.h( 2)\n",
      "grover_circuit.h( 2)\n",
      "# grover_circuit.append(oracle_ex3, [0,1,2])\n",
      "# grover_circuit.append(diffuser(n), [0,1,2])\n",
      "# Apply transformation |s> -> |00..0> (H-gates)\n",
      "for qubit in range(n):\n",
      "    grover_circuit.h(qubit)\n",
      "# Apply transformation |00..0> -> |11..1> (X-gates)\n",
      "for qubit in range(n):\n",
      "    grover_circuit.x(qubit)\n",
      "# Do multi-controlled-Z gate\n",
      "grover_circuit.h(n-1)\n",
      "grover_circuit.mct(list(range(n-1)), n-1)  # multi-controlled-toffoli\n",
      "grover_circuit.h(n-1)\n",
      "# Apply transformation |11..1> -> |00..0>\n",
      "for qubit in range(n):\n",
      "    grover_circuit.x(qubit)\n",
      "# Apply transformation |00..0> -> |s>\n",
      "for qubit in range(n):\n",
      "    grover_circuit.h(qubit)\n",
      "\n",
      "grover_circuit.draw(output='mpl')# number=2\n",
      "\n"
     ]
    }
   ],
   "source": [
    "from gates_equivalent import cz_to_hcnoth\n",
    "\n",
    "circuit = '''n = 3\n",
    "grover_circuit = QuantumCircuit(n)\n",
    "# grover_circuit = initialize_s(grover_circuit, [0,1,2])\n",
    "for q in [0,1,2]:\n",
    "    grover_circuit.h(q)\n",
    "grover_circuit.cz(0, 2)\n",
    "grover_circuit.cz(1, 2)\n",
    "# grover_circuit.append(oracle_ex3, [0,1,2])\n",
    "# grover_circuit.append(diffuser(n), [0,1,2])\n",
    "# Apply transformation |s> -> |00..0> (H-gates)\n",
    "for qubit in range(n):\n",
    "    grover_circuit.h(qubit)\n",
    "# Apply transformation |00..0> -> |11..1> (X-gates)\n",
    "for qubit in range(n):\n",
    "    grover_circuit.x(qubit)\n",
    "# Do multi-controlled-Z gate\n",
    "grover_circuit.h(n-1)\n",
    "grover_circuit.mct(list(range(n-1)), n-1)  # multi-controlled-toffoli\n",
    "grover_circuit.h(n-1)\n",
    "# Apply transformation |11..1> -> |00..0>\n",
    "for qubit in range(n):\n",
    "    grover_circuit.x(qubit)\n",
    "# Apply transformation |00..0> -> |s>\n",
    "for qubit in range(n):\n",
    "    grover_circuit.h(qubit)\n",
    "\n",
    "grover_circuit.draw(output='mpl')'''\n",
    "print(cz_to_hcnoth(circuit, 0))"
   ],
   "metadata": {
    "collapsed": false
   }
  }
 ],
 "metadata": {
  "kernelspec": {
   "display_name": "Python 3",
   "language": "python",
   "name": "python3"
  },
  "language_info": {
   "codemirror_mode": {
    "name": "ipython",
    "version": 2
   },
   "file_extension": ".py",
   "mimetype": "text/x-python",
   "name": "python",
   "nbconvert_exporter": "python",
   "pygments_lexer": "ipython2",
   "version": "2.7.6"
  }
 },
 "nbformat": 4,
 "nbformat_minor": 0
}
